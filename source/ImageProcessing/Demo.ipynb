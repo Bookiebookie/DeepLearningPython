{
 "cells": [
  {
   "cell_type": "markdown",
   "metadata": {
    "slideshow": {
     "slide_type": "slide"
    }
   },
   "source": [
    "<h3 align=\"center\">Pedestrian Crossings Detection From Aerial Images for The City of Helsinki</h3> \n"
   ]
  },
  {
   "cell_type": "markdown",
   "metadata": {
    "slideshow": {
     "slide_type": "slide"
    }
   },
   "source": [
    "## Computer vision \n",
    "- field of study focused on the problem of helping computers to see\n",
    "- the goal of computer vision problems is to use the observed image data to infer something about the world (Computer Vision: Models, Learning, and Inference, 2012.)\n"
   ]
  },
  {
   "cell_type": "markdown",
   "metadata": {
    "slideshow": {
     "slide_type": "slide"
    }
   },
   "source": [
    "## Different computer vision task \n",
    "### Classification\n",
    "- What broad category of object is in this photograph? \n",
    "- there is a ballon in this image \n",
    "<img src=\"classification.png\" alt=\"Alt text that describes the graphic\" title=\"Anchors\" />"
   ]
  },
  {
   "cell_type": "markdown",
   "metadata": {
    "slideshow": {
     "slide_type": "slide"
    }
   },
   "source": [
    "### Semantic Segmentation\n",
    "- What pixels belong to the object in the image\n",
    "- these are all the balloon pixels.\n",
    "    <img src=\"sematic_seg.png\" alt=\"Alt text that describes the graphic\" title=\"Anchors\" />"
   ]
  },
  {
   "cell_type": "markdown",
   "metadata": {
    "slideshow": {
     "slide_type": "slide"
    }
   },
   "source": [
    "### Object Detection\n",
    "\n",
    "- Where are the objects in the photograph?\n",
    "- there are 7 balloons in this image at these locations. \n",
    "- starting to account for objects that overlap.\n",
    "<img src=\"object_det.png\" alt=\"Alt text that describes the graphic\" title=\"Anchors\" />"
   ]
  },
  {
   "cell_type": "markdown",
   "metadata": {
    "slideshow": {
     "slide_type": "slide"
    }
   },
   "source": [
    "### Instance Segmentation\n",
    "- there are 7 balloons at these locations.\n",
    "- these are the pixels that belong to each one.\n",
    "<img src=\"instace_seg.png\" alt=\"Alt text that describes the graphic\" title=\"Anchors\" />"
   ]
  },
  {
   "cell_type": "markdown",
   "metadata": {
    "slideshow": {
     "slide_type": "slide"
    }
   },
   "source": [
    "## Pedestrian crossings detection problem\n",
    "- where are the pedestrian crossings  + what pixels belong to each crossings in the image\n",
    "- instance segmentation "
   ]
  },
  {
   "cell_type": "markdown",
   "metadata": {
    "slideshow": {
     "slide_type": "slide"
    }
   },
   "source": [
    "### Mask R-CNN (regional convolutional neural network)\n",
    "- for instance segmentation \n",
    "- developed by Facebook AI Research (FAIR)\n",
    "- our implementation is adopted from matterport(https://github.com/matterport/Mask_RCNN)"
   ]
  },
  {
   "cell_type": "markdown",
   "metadata": {
    "slideshow": {
     "slide_type": "slide"
    }
   },
   "source": [
    "### Mask R-CNN\n",
    "- two stage training\n",
    "- stage I\n",
    "    - Region Proposal Network\n",
    "- stage II\n",
    "    - Bounding Box Regression\n",
    "    - Class Prediction\n",
    "    -   Binary Mask Prediction\n",
    "  "
   ]
  },
  {
   "cell_type": "markdown",
   "metadata": {
    "slideshow": {
     "slide_type": "slide"
    }
   },
   "source": [
    "####  Mask R-CNN \n",
    "- stage I\n",
    "    - Region Proposal Network (RPN)\n",
    "- scans the image in a sliding-window fashion and finds areas that contain objects\n",
    "- regions that the RPN scans over are called anchors"
   ]
  },
  {
   "cell_type": "markdown",
   "metadata": {
    "slideshow": {
     "slide_type": "slide"
    }
   },
   "source": [
    "- scanning image region\n",
    "<img src=\"rpn.png\" alt=\"Alt text that describes the graphic\" title=\"Anchors\" width=500 height=500 />"
   ]
  },
  {
   "cell_type": "markdown",
   "metadata": {
    "slideshow": {
     "slide_type": "slide"
    }
   },
   "source": [
    "####  RPN generates two output\n",
    "1) Anchor Class: One of two classes: foreground or background.\n",
    "\n",
    "2) Bounding Box Refinement: refine the anchor box to fit the object better.\n",
    "- top anchors that are likely to contain objects and refine their location and size"
   ]
  },
  {
   "cell_type": "markdown",
   "metadata": {
    "slideshow": {
     "slide_type": "slide"
    }
   },
   "source": [
    "### Mask R-CNN\n",
    "- Stage II\n",
    " - Bounding Box Regression\n",
    " - Class Prediction\n",
    " - Binary Mask Prediction"
   ]
  },
  {
   "cell_type": "markdown",
   "metadata": {
    "slideshow": {
     "slide_type": "slide"
    }
   },
   "source": [
    "stage II\n",
    "- takes anchors from stage I proposed by RPN\n",
    "- we call them the region of interest(ROI)"
   ]
  },
  {
   "cell_type": "markdown",
   "metadata": {
    "slideshow": {
     "slide_type": "slide"
    }
   },
   "source": [
    "For each ROI, just like the RPN:\n",
    "- predict class  (capacity to classify regions to specific classes (person, car, chair, …etc.))\n",
    "- bounding box regression\n",
    "- binary mask prediction \n"
   ]
  },
  {
   "cell_type": "markdown",
   "metadata": {
    "slideshow": {
     "slide_type": "slide"
    }
   },
   "source": [
    "## Results\n",
    "<img src=\"outside_12.png\" align='left' width=450 height=300 />\n",
    "<img src=\"result1.png\" align='right' width=500 height=380 />\n"
   ]
  },
  {
   "cell_type": "markdown",
   "metadata": {
    "slideshow": {
     "slide_type": "slide"
    }
   },
   "source": [
    "## Results\n",
    "<img src=\"train_2340.png\" align='left' width=400 height=380 />\n",
    "<img src=\"result2.png\" align='right' width=500 height=380 />"
   ]
  },
  {
   "cell_type": "markdown",
   "metadata": {
    "slideshow": {
     "slide_type": "slide"
    }
   },
   "source": [
    "### Further improvement \n",
    "- more training with more data \n",
    "- tuning parameters"
   ]
  },
  {
   "cell_type": "markdown",
   "metadata": {
    "slideshow": {
     "slide_type": "slide"
    }
   },
   "source": [
    "### Challenges \n",
    "- getting more labeled training data\n",
    "- computing resources"
   ]
  },
  {
   "cell_type": "markdown",
   "metadata": {
    "slideshow": {
     "slide_type": "notes"
    }
   },
   "source": [
    "refrecnces: All the figures are from (https://engineering.matterport.com/splash-of-color-instance-segmentation-with-mask-r-cnn-and-tensorflow-7c761e238b46)"
   ]
  },
  {
   "cell_type": "code",
   "execution_count": null,
   "metadata": {},
   "outputs": [],
   "source": []
  },
  {
   "cell_type": "code",
   "execution_count": null,
   "metadata": {},
   "outputs": [],
   "source": []
  }
 ],
 "metadata": {
  "celltoolbar": "Slideshow",
  "kernelspec": {
   "display_name": "Python 3",
   "language": "python",
   "name": "python3"
  },
  "language_info": {
   "codemirror_mode": {
    "name": "ipython",
    "version": 3
   },
   "file_extension": ".py",
   "mimetype": "text/x-python",
   "name": "python",
   "nbconvert_exporter": "python",
   "pygments_lexer": "ipython3",
   "version": "3.7.4"
  },
  "toc": {
   "base_numbering": 1,
   "nav_menu": {},
   "number_sections": false,
   "sideBar": true,
   "skip_h1_title": false,
   "title_cell": "Table of Contents",
   "title_sidebar": "Contents",
   "toc_cell": false,
   "toc_position": {},
   "toc_section_display": true,
   "toc_window_display": false
  },
  "varInspector": {
   "cols": {
    "lenName": 16,
    "lenType": 16,
    "lenVar": 40
   },
   "kernels_config": {
    "python": {
     "delete_cmd_postfix": "",
     "delete_cmd_prefix": "del ",
     "library": "var_list.py",
     "varRefreshCmd": "print(var_dic_list())"
    },
    "r": {
     "delete_cmd_postfix": ") ",
     "delete_cmd_prefix": "rm(",
     "library": "var_list.r",
     "varRefreshCmd": "cat(var_dic_list()) "
    }
   },
   "types_to_exclude": [
    "module",
    "function",
    "builtin_function_or_method",
    "instance",
    "_Feature"
   ],
   "window_display": false
  }
 },
 "nbformat": 4,
 "nbformat_minor": 2
}
