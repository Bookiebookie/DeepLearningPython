{
 "cells": [
  {
   "cell_type": "markdown",
   "metadata": {},
   "source": [
    "# CS-EJ3311 Deep Learning with Python, 09.09.2020-18.12.2020\n",
    "\n",
    "## Round 0 - The Basic Workflow of Machine Learning\n",
    "\n",
    "Shamsi Abdurakhmanova, Mikko Salervo and Alexander Jung\\\n",
    "Aalto University, Espoo, Finland\n",
    "\n",
    "fitech.io, Finland"
   ]
  },
  {
   "cell_type": "markdown",
   "metadata": {},
   "source": [
    "## Learning Goals\n",
    "\n",
    "* recall the basic components of a ML method \n",
    "* learn that the training error is a poor quality measure for a hypothesis space \n",
    "* learn that the validation error is a more useful quality measure for a hypothesis space \n",
    "* learn how to choose between different hypothesis spaces (models) using the validation error\n",
    "* learn about regularization as a soft variant of model selection. \n",
    "\n",
    "## Background Material \n",
    "\n",
    "* [Video lecture](https://www.youtube.com/watch?v=MyBSkmUeIEs) of Prof. Andrew Ng on model validation and selection\n",
    "* [Short video](https://www.youtube.com/watch?v=TIgfjmp-4BA) on K-Fold Cross validation from Udacity\n",
    "* [Video lecture](https://www.youtube.com/watch?v=KvtGD37Rm5I) of Prof. Andrew Ng on regularization\n",
    "* Chapter 2; Chapter 6; Chapter 7 of this [tutorial](https://arxiv.org/abs/1805.05052)  "
   ]
  },
  {
   "cell_type": "markdown",
   "metadata": {},
   "source": [
    "This warm-up round provides a refresher of the basic workflow for using ML methods. This workflow has been discussed in more detail in the prerequisite course [CS-EJ3211 Machine Learning with Python](mlwithpython.cs.aalto.fi). \n",
    "Most ML and deep learning methods, combine three components\n",
    "\n",
    "* data points, their features and labels, \n",
    "* a hypothesis space (of predictor functions) \n",
    "* and a loss function that measures the quality of a particular predictor function out of the hypothesis space. \n",
    "\n",
    "ML algorithms are optimization methods that try to find (or learn) the best predictor out of the hypothesis space by minimizing the average loss over some labeled data points (the training data). This predictor is then used to predict the labels of new data points."
   ]
  },
  {
   "cell_type": "markdown",
   "metadata": {
    "nbgrader": {
     "grade": false,
     "grade_id": "cell-85d7ef6fc6ff2a13",
     "locked": true,
     "schema_version": 3,
     "solution": false,
     "task": false
    }
   },
   "source": [
    "A key challenge in applying modern ML methods is to avoid overfitting. Modern ML methods use extremly large hypothesis spaces, e.g., the space of predictor maps that are represented by a deep nerual network with billions of tunable paramters. But also the space of linear predictors becomes too large when using a large number of features. \n",
    "\n",
    "The code snippet below read in some data points $(x^{(i)},y^{(i)})$, for $i=1,2,\\ldots$, which are characterized by a scalar feature $x^{(i)}$ and a numeric label $y^{(i)}$. Note that we consider the datapoint in the last element of $y$ to be an outlier and remove this from the dataset."
   ]
  },
  {
   "cell_type": "code",
   "execution_count": 1,
   "metadata": {
    "nbgrader": {
     "grade": false,
     "grade_id": "cell-d1aa568825aa58d9",
     "locked": true,
     "schema_version": 3,
     "solution": false,
     "task": false
    }
   },
   "outputs": [
    {
     "name": "stdout",
     "output_type": "stream",
     "text": [
      "Total number of labeled data points =  19\n"
     ]
    },
    {
     "data": {
      "text/plain": [
       "<Figure size 800x500 with 1 Axes>"
      ]
     },
     "metadata": {},
     "output_type": "display_data"
    }
   ],
   "source": [
    "# Import libraries\n",
    "import numpy as np \n",
    "from sklearn import datasets \n",
    "import matplotlib.pyplot as plt  \n",
    "from sklearn.preprocessing import PolynomialFeatures\n",
    "from sklearn.linear_model import LinearRegression\n",
    "\n",
    "# load the toy dataset \"linnerud\" provide by the \"sklearn\" package\n",
    "linnerud = datasets.load_linnerud()\n",
    "# read in the exercise parameters (nr. of chinups ..) for each athlete\n",
    "Exercise = linnerud['data']\n",
    "# read in the physiological (weight ...) paramters for each athlete\n",
    "Physio = linnerud['target']\n",
    "\n",
    "x = Physio[:-1,0].reshape(-1,1) \n",
    "# convert Lbs to Kg\n",
    "x = x*0.453 \n",
    "# we use number of chinups as label and store them (for all athletes) in numpy array y\n",
    "y = Exercise[:-1,0] \n",
    "\n",
    "m_total = y.shape[0]  # Number of datapoints in the dataset\n",
    "print (\"Total number of labeled data points = \", m_total)\n",
    "\n",
    "# Plot a scatterplot of the dataset\n",
    "plt.figure(figsize=(8, 5))\n",
    "plt.scatter(x, y,label=\"Labeled data points\")\n",
    "plt.ylabel('label ' + r'$y$')\n",
    "plt.xlabel('feature ' + r'$x$')\n",
    "plt.legend()\n",
    "plt.show()"
   ]
  },
  {
   "cell_type": "markdown",
   "metadata": {
    "nbgrader": {
     "grade": false,
     "grade_id": "cell-8fd784a728ac00b0",
     "locked": true,
     "schema_version": 3,
     "solution": false,
     "task": false
    }
   },
   "source": [
    "Let us use four data points out of the entire dataset as our **training set**. The training data points are used to find a good predictor map by tuning its parameters such that average loss on the training set (training error) is minimal. \n",
    "\n",
    "The remaining data points, which are not in the training set, will be used to as a validation set. We first train the predictor map on the training set and then apply it to the data points in the valiation set (validation). The resulting average loss on the validation set (validation error) is an estimate for the average loss of the preditor map. "
   ]
  },
  {
   "cell_type": "code",
   "execution_count": 2,
   "metadata": {
    "nbgrader": {
     "grade": false,
     "grade_id": "cell-2601ad49c9617b02",
     "locked": true,
     "schema_version": 3,
     "solution": false,
     "task": false
    }
   },
   "outputs": [
    {
     "data": {
      "image/png": "[encoded data removed]",
      "text/plain": [
       "<Figure size 576x360 with 1 Axes>"
      ]
     },
     "metadata": {
      "needs_background": "light"
     },
     "output_type": "display_data"
    }
   ],
   "source": [
    "# use the last four datapoints as training set\n",
    "\n",
    "x_train = x[m_total-4:]   # features of the training data points\n",
    "y_train = y[m_total-4:]   # label values of the training data points \n",
    "\n",
    "# the remaining data pionts are used as the validation set\n",
    "\n",
    "x_val = x[:m_total-4]     # feature values of the validation data points \n",
    "y_val = y[:m_total-4]     # label values of the validation data point \n",
    "\n",
    "# generate a scatter plot of all data points \n",
    "# crosses represent data points in the training set \n",
    "# blue dots represent data points in the validation set \n",
    "\n",
    "plt.figure(figsize=(8, 5))     # create plot with specified dimensions (width, height)\n",
    "plt.scatter(x_val, y_val, label=\"labeled data points\")   # depict data points in validation set\n",
    "plt.scatter(x_train, y_train, s=400, marker=r'$\\times$', label=\"training set\") # depict data points in training set\n",
    "plt.ylabel('label ' + r'$y$')    # add caption of y-axis\n",
    "plt.xlabel('feature ' + r'$x$')  # add caption of x-axis\n",
    "plt.legend(loc='upper right')    # add a legend in the upper right corner of the plot \n",
    "plt.show()"
   ]
  },
  {
   "cell_type": "markdown",
   "metadata": {
    "nbgrader": {
     "grade": false,
     "grade_id": "cell-46af00bfd04c2706",
     "locked": true,
     "schema_version": 3,
     "solution": false,
     "task": false
    }
   },
   "source": [
    "Next, we will compare the fit of two polynomial predictors of different degree on the training set and analyze how well the optimal predictors generalize to the validation set.\n",
    "\n",
    "Using the four data points (marked by crosses in the above plot) in the training set, we learn (find) the best predictors out of the hypothesis space\n",
    "\n",
    "$$ \\mathcal{H}^{(4)} = \\{ h(x) = w_{0}+w_{1}x+w_{2}x^2+w_{3}x^3+w_{4}x^{4} \\mbox{ with tunable weights } w_{0},\\ldots,w_{4} \\in \\mathbb{R} \\}.$$\n",
    "\n",
    "Learning the best predictor out of $\\mathcal{H}^{(4)}$ amounts to fitting a fourth degree polynomial \n",
    "to the training data points. \n",
    "\n",
    "Then, we repeat the training process but with the different hypothesis space \n",
    "\n",
    "$$ \\mathcal{H}^{(1)} = \\{ h(x) = w_{0}+w_{1}x \\mbox{ with tunable weights } w_{0},w_1 \\in \\mathbb{R} \\}.$$\n",
    "\n",
    "Learning the best predictor out of $\\mathcal{H}^{(1)}$ amounts to fitting a linear curve to the training data."
   ]
  },
  {
   "cell_type": "code",
   "execution_count": 3,
   "metadata": {
    "nbgrader": {
     "grade": false,
     "grade_id": "cell-7be1c2de8fb89d1c",
     "locked": true,
     "schema_version": 3,
     "solution": false,
     "task": false
    }
   },
   "outputs": [
    {
     "data": {
      "image/png": "[encoded data removed]",
      "text/plain": [
       "<Figure size 576x360 with 1 Axes>"
      ]
     },
     "metadata": {
      "needs_background": "light"
     },
     "output_type": "display_data"
    }
   ],
   "source": [
    "# choose best predictor out of the hypothesis space given by all \n",
    "# polynomials h(x) = w_0 + w_1*x ... + w_4*x^4 of maximum degree 4 \n",
    "poly = PolynomialFeatures(degree = 4) \n",
    "# transform scalar feature x to a feature vector [x^0 x^1 ... x^4]\n",
    "X_poly = poly.fit_transform(x_train) \n",
    "# we can now use linear regression using the transformed feature vectors \n",
    "poly_reg = LinearRegression() \n",
    "# compute optimal weights to minimize training error \n",
    "poly_reg.fit(X_poly, y_train) \n",
    "\n",
    "lin_reg = LinearRegression()\n",
    "lin_reg.fit(x_train, y_train)\n",
    "\n",
    "# Plot the resulting \"optimal\" predictor (having minimum training error) \n",
    "x_grid = np.linspace(69, 93, num=100)\n",
    "x_grid_2 = np.linspace(69, 113, num=100)\n",
    "X_poly = poly.fit_transform(x_grid.reshape(-1,1))\n",
    "\n",
    "# create a scatter plot that also contains the optimal predictor functions\n",
    "# from the two hypothesis spaces discussed above \n",
    "\n",
    "plt.figure(figsize=(8,5))\n",
    "plt.scatter(x_val, y_val,label=\"validation set\")\n",
    "plt.scatter(x_train, y_train, s=400,marker=r'$\\times$', label=\"training set\")\n",
    "plt.plot(x_grid, poly_reg.predict(X_poly), color = 'red', label=\"$r=4$\")\n",
    "plt.plot(x_grid_2, lin_reg.predict(x_grid.reshape(-1,1)), color = 'green', label=\"$r=1$\")\n",
    "plt.ylabel('label ' + r'$y$')\n",
    "plt.xlabel('feature ' + r'$x$')\n",
    "plt.legend(loc='upper right')\n",
    "plt.show()"
   ]
  },
  {
   "cell_type": "markdown",
   "metadata": {
    "nbgrader": {
     "grade": false,
     "grade_id": "cell-b5608ed9b712d8e5",
     "locked": true,
     "schema_version": 3,
     "solution": false,
     "task": false
    }
   },
   "source": [
    "The above figure shows that the 4th degree polynomial (the red curve) fits the training data (orange crosses) almost perfectly. The average means-squared error incurred on the four training data points is essentially zero. However, it is quite clear that the polynomial fits the data outside of the training set very poorly.\n",
    "\n",
    "In contrast, the linear predictor provides a reasonable linear trend for the entire dataset, even though the fit on the training set is worse than that of the 4th degree polynomial.\n",
    "\n",
    "The phenomenon where a predictor has a very low error on the training set but generalizes poorly to other data from the same distribution is called **overfitting**. Thus, we can conclude that the 4th degree polynomial predictor **overfits** the training data. Due to the possibility of overfitting, we cannot be confident in that a predictor that fits the training data well is able to accurately predict the labels of new data points.\n",
    "\n",
    "The key idea of **validation** is to estimate the error of a predictor on data points that were not used for training the model. The validation error exposes models that overfit the training data, and thus it gives a more realistic estimate of the predictive capability of a model on new data points, in comparison to the training error. In the above figure, we could use the prediction error incurred for the data points marked by blue dots to validate the predictor functions. "
   ]
  },
  {
   "cell_type": "markdown",
   "metadata": {
    "nbgrader": {
     "grade": false,
     "grade_id": "cell-90c66bf37e8ad022",
     "locked": true,
     "schema_version": 3,
     "solution": false,
     "task": false
    }
   },
   "source": [
    "\n",
    "## What is model validation?\n",
    "\n",
    "Suppose that we want to predict a numeric label (quantity of interest) $y \\in \\mathbb{R}$ based on some features $\\mathbf{x}=(x_{1},\\ldots,x_{n}) \\in \\mathbb{R}^{n}$ of a data point. In order to learn a good predictor $h(\\mathbf{x})$, we can use some data points $\\mathbb{X} = \\{ \\big( \\mathbf{x}^{(i)},y^{(i)}\\big)\\}$ for which we have determined the true label value $y^{(i)}$. Each data point in the training data $\\mathbb{X}$ is characterized by features $\\mathbf{x}^{(i)}$ and a label (quantity of interest) $y^{(i)}$. \n",
    "\n",
    "Consider a predictor $h(\\mathbf{x})$ which works extremely well on the dataset $\\mathbb{X}$,\n",
    "\n",
    "\\begin{equation}\n",
    "\\sum_{\\big(\\mathbf{x}^{(i)},y^{(i)}\\big) \\in \\mathbb{X}}\\big(y^{(i)} - \\underbrace{h(\\mathbf{x}^{(i)})}_{= \\hat{y}^{(i)}}\\big)^{2}\\approx 0.\n",
    "\\end{equation}\n",
    "\n",
    "Even if the predictor $h(\\mathbf{x})$ does exceptionally well on the data set $\\mathbb{X}$, we can not be sure that the method will work well on new data points (different from the data points in $\\mathbb{X}$). \n",
    "This is particularly true for ML models that allow for complex predictor functions $h(\\mathbf{x})$. Examples of complex  predictor functions are linear functions $h(\\mathbf{x}) = \\mathbf{w}^{T} \\mathbf{x} = \\sum_{r=1}^{n} x_{r} w_{r}$ using a large number of features $x_{1},\\ldots,x_{n}$ (the number $n$ of features is a measure of the complexity of the space of linear functions).\n",
    "\n",
    "Another example for a vast hypothesis space is given by the set of all predictor functions that can be represented by a given deep neural network structure with billions of adjustable weights (each edge has one weight $w$ that can be tuned). When using an extremely large hypothesis space $\\mathcal{H}$, it is very likely that just by chance one finds a predictor function $h(\\cdot) \\in \\mathcal{H}$ that perfectly fits (reproduces) a given set of labeled data points (unless this dataset is VERY large). \n",
    "\n",
    "It is worth emphasizing that the optimal complexity of the predictor function is typically dependent on the size of the dataset. A deep neural network might generalize well when trained on a huge dataset, whereas even a linear model with many features might be prone to severe overfitting on a small dataset. In particular, it can be shown that if the number of features is equal to the number of datapoints, a linear model can fit the data perfectly.\n",
    "\n",
    "ML methods that perform well on training data due to memorization of the training data do not pick up any intrinsic relation between features $\\mathbf{x}$ and label $y$. Such an ML method merely overfits the training data and will not be able to **generalize well** to new data. \n",
    "\n",
    "In order to detect overfitting we need to implement some form of **validation**. The idea behind validation is quite simple: \n",
    "\n",
    "**Split the available labeled data points $\\mathbb{X}$ into two different subsets, a training set $\\mathbb{X}^{(t)}$ of size $m_{t}$ and a validation set $\\mathbb{X}^{(v)}$ of size $m_{v}$.** \n",
    "\n",
    "<img src=\"SplitValTrain.jpg\" alt=\"Drawing\" style=\"width: 500px;\"/>"
   ]
  },
  {
   "cell_type": "markdown",
   "metadata": {
    "nbgrader": {
     "grade": false,
     "grade_id": "cell-714536d18e8f3dff",
     "locked": true,
     "schema_version": 3,
     "solution": false,
     "task": false
    }
   },
   "source": [
    "<a id='splitTestandValidationfunction'></a>\n",
    "<div class=\" alert alert-info\">\n",
    "<b>Demo.</b> Split Data into Training and Validation Set.\n",
    "\n",
    "The code snippet below creates a synthetic dataset of $m$ datapoints $(\\mathbf{x}^{(i)},y^{(i)})$. Each data point is characterized by the feature vector $\\mathbf{x}^{(i)}=\\big(x^{(i)}_{1},\\ldots,x_{n}^{(i)}\\big)^{T} \\in \\mathbb{R}^{n}$ and a numeric label $y^{(i)} \\in \\mathbb{R}$. The feature vectors are stored in the rows of the matrix $\\mathbf{X}\\in \\mathbb{R}^{m \\times n}$. The labels are collected into the vector $\\mathbf{y}=\\big(y^{(1)},\\ldots,y^{(m)}\\big)^{T} \\in \\mathbb{R}^{m}$. \n",
    "\n",
    "The Python library `scikit-learn` provides the function \n",
    "\n",
    "`X_train, X_test, y_train, y_test=train_test_split(X, y, test_size=0.2, random_state=2)` \n",
    "\n",
    "which can be used to split a dataset into training and validation set. The function reads in the feature vectors in the numpy array `X` of shape ($m,n$) and the labels in the numpy array `y` of shape ($m,$). \n",
    "\n",
    "The function returns numpy arrays `X_train` of shape ($m_{t},n$), `X_val`of shape ($m_{v},n$), `y_train` of shape ($m_{t},$) and `y_val` of shape ($m_{v},$). The input parameter `test_size` specifies the relative size $m_{v}/m$ of the validation set. When using `test_size=0.2`, $20 \\%$ of the original data points are used for the validation set and the remaining $80 \\%$ in the training set.\n",
    "\n",
    "[Scikit-learn documentation of train_test_split](https://scikit-learn.org/stable/modules/generated/sklearn.model_selection.train_test_split.html)\n",
    "</div>"
   ]
  },
  {
   "cell_type": "code",
   "execution_count": 4,
   "metadata": {
    "nbgrader": {
     "grade": false,
     "grade_id": "cell-b8b4f6fb62eef46b",
     "locked": true,
     "schema_version": 3,
     "solution": false,
     "task": false
    }
   },
   "outputs": [
    {
     "data": {
      "image/png": "[encoded data removed]",
      "text/plain": [
       "<Figure size 720x720 with 2 Axes>"
      ]
     },
     "metadata": {
      "needs_background": "light"
     },
     "output_type": "display_data"
    }
   ],
   "source": [
    "# Import libraries\n",
    "from sklearn.preprocessing import StandardScaler\n",
    "from sklearn.datasets import load_boston\n",
    "import matplotlib.pyplot as plt\n",
    "import pandas as pd\n",
    "import numpy as np\n",
    "from sklearn.model_selection import train_test_split    # Import train_test_split function\n",
    "from sklearn import metrics\n",
    "\n",
    "m = 20    # Number of data points\n",
    "n = 10    # Number of features\n",
    "\n",
    "np.random.seed(4)    # Set random seed for reproduceability\n",
    "\n",
    "X = np.random.randn(m,n)    # create feature vectors using random numbers\n",
    "y = np.random.randn(m)    # create labels using random numbers \n",
    "X_train, X_val, y_train, y_val = train_test_split(X, y, test_size=0.2, random_state=2)  # Split dataset with 80% training and 20% test\n",
    "\n",
    "plt.rc('legend', fontsize=14)    #  Set font size for legends\n",
    "plt.rc('axes', labelsize=14)    #  Set font size for axis labels\n",
    "\n",
    "fig, axes = plt.subplots(2, 1, figsize=(10,10))    # Create figure with two subplots\n",
    "axes[0].set_title('Scatterplot of the entire dataset', fontsize=16)\n",
    "\n",
    "axes[0].scatter(X[:, 0], X[:, 1], c='g',marker ='x', s=80, label='original dataset')  # Scatter plot of the original dataset\n",
    "axes[0].legend(loc='best')    # Set legend and set it in the best (automatically determined) position\n",
    "axes[0].set_xlabel(r'feature $x_1$')    # Set the label of the x-axis\n",
    "axes[0].set_ylabel(r'feature $x_2$')    # Set the label of the y-axis\n",
    "\n",
    "axes[1].scatter(X_train[:, 0], X_train[:, 1], c='g', marker ='o', s=80, label='training set')  # Scatter plot of the training set\n",
    "axes[1].scatter(X_val[:, 0], X_val[:, 1], c='brown', marker ='s', s=80, label='validation set')  # Scatter plot of the validation set\n",
    "axes[1].set_title('Training and validation sets', fontsize=16)\n",
    "axes[1].legend(loc='best')    # Set legend and set it in the best (automatically determined) position\n",
    "axes[1].set_xlabel(r'feature $x_1$')    # Set the label of the x-axis\n",
    "axes[1].set_ylabel(r'feature $x_2$')    # Set the label of the y-axis\n",
    "\n",
    "fig.tight_layout()\n",
    "plt.show()"
   ]
  },
  {
   "cell_type": "markdown",
   "metadata": {
    "nbgrader": {
     "grade": false,
     "grade_id": "cell-d82c01565964839f",
     "locked": true,
     "schema_version": 3,
     "solution": false,
     "task": false
    }
   },
   "source": [
    "The training set $\\mathbb{X}^{(t)}$ is used to learn the optimal predictor $h_{\\rm opt} \\in \\mathcal{H}$ out of the hypothesis space: \n",
    "\n",
    "\\begin{equation} \n",
    "h_{\\rm opt}  = {\\rm argmin}_{h \\in \\mathcal{H}} \\sum_{\\big(\\mathbf{x}^{(i)},y^{(i)}\\big) \\in \\mathbb{X}^{(t)}} \\big(y^{(i)} - \\underbrace{h(\\mathbf{x}^{(i)})}_{= \\hat{y}^{(i)}}\\big)^{2}. \n",
    "\\end{equation} \n",
    "\n",
    "The minimum objective value of this optimization problem is the **training error** \n",
    "\n",
    "\\begin{equation}\n",
    "E_{\\rm train} = (1/m_{t}) \\sum_{\\big(\\mathbf{x}^{(i)},y^{(i)}\\big) \\in \\mathbb{X}^{(t)}} \\big(y^{(i)} - h_{\\rm opt}(\\mathbf{x}^{(i)})\\big)^{2}.\n",
    "\\end{equation} \n",
    "\n",
    "Note that the training error $E_{\\rm train}$ measures the performance of the predictor $h_{\\rm opt}$ on the same data points $\\mathbb{X}^{(t)}$ which have been used to tune (learn) $h_{\\rm opt}$. Therefore, the training error $E_{\\rm train}$ is too **optimistic** as an estimate for the average error (or loss) of $h_{\\rm opt}$ on new data points which are different from $\\mathbb{X}^{(t)}$. \n",
    "\n",
    "To estimate the error incurred by $h_{\\rm opt}$ on new data points, we calculate the average loss incurred by $h_{\\rm opt}$ on the validation set $\\mathbb{X}^{(v)}$. This yields the **validation error**\n",
    "\n",
    "\\begin{equation}\n",
    "E_{\\rm val} = (1/m_{v}) \\sum_{\\big(\\mathbf{x}^{(i)},y^{(i)}\\big) \\in \\mathbb{X}^{(v)}} \\big(y^{(i)} - h_{\\rm opt}(\\mathbf{x}^{(i)})\\big)^{2}. \n",
    "\\end{equation}\n",
    "\n",
    "The validation error $E_{\\rm val}$ is a much better estimate for the average error (or loss) of the predictor $h_{\\rm opt}$. \n",
    "\n",
    "The training error $E_{\\rm train}$ provides a quality measure for the particular predictor $h_{\\rm opt}$. In contrast, the validation error $E_{\\rm val}$ provides a quality measure for the entire hypothesis space $\\mathcal{H}$. Therefore, we can use the validation error for **model selection**. In model selection, we choose the best hypothesis space $\\mathcal{H}$ out of a set of alternative hypothesis spaces $\\mathcal{H}^{(1)},\\mathcal{H}^{(2)},\\ldots$ by selecting the one that achieves the lowest validation error $E_{\\rm val}$."
   ]
  },
  {
   "cell_type": "markdown",
   "metadata": {
    "nbgrader": {
     "grade": false,
     "grade_id": "cell-de358afd2c4fac99",
     "locked": true,
     "schema_version": 3,
     "solution": false,
     "task": false
    }
   },
   "source": [
    "## The Problem \n",
    "\n",
    "Model validation and selection is best understood by working through a particular example. To this end, we revisit the problem of predicting the grayscale value $y$ of a pixel in an aerial photograph. We can formalize the grayscale value prediction as an ML problem with\n",
    "\n",
    "1. **data points** which represent pixels in the photograph. Each data point is characterized by features $\\mathbf{x} = (x_{1},\\ldots,x_{n}) \\in \\mathbb{R}^{n}$. Moreover, we define the grayscale value of the pixel as the label $y$ of the data point. \n",
    "\n",
    "2. a **hypothesis space** $\\mathcal{H}$ consisting of predictor functions $h: \\mathbb{R}^{n} \\rightarrow \\mathbb{R}$ from features $\\mathbf{x} \\in \\mathbb{R}^{n}$ to a predicted grayscale value $\\hat{y}=h(\\mathbf{x})\\in \\mathbb{R}$ and \n",
    "\n",
    "3. a **loss function**, such as squared error loss, which measures the quality of a predictor."
   ]
  },
  {
   "cell_type": "markdown",
   "metadata": {
    "nbgrader": {
     "grade": false,
     "grade_id": "cell-3d2949507bb9fa14",
     "locked": true,
     "schema_version": 3,
     "solution": false,
     "task": false
    }
   },
   "source": [
    "<a id='handsondata'></a>\n",
    "<div class=\" alert alert-info\">\n",
    "<p><b>Demo.</b> Loading the Data.</p>\n",
    "    \n",
    "The following code snippet defines a function `X,y = GetFeaturesLabels(m,n)` which reads in the features and labels of pixels which are not corrupted (not fully black). The input parameters are the number `m` of data points and the number `n` of features to be used for each data point. The function returns a matrix $\\mathbf{X}$ and vector $\\mathbf{y}$. \n",
    "\n",
    "The features $\\mathbf{x}^{(i)}$ of data points are stored in the rows of the numpy array `X` (of shape (m,n)) and the corresponding grayscale values $y^{(i)}$ in the numpy array `y` (of shape (m,1)). The two arrays represent the feature matrix $\\mathbf{X} = \\begin{pmatrix} \\mathbf{x}^{(1)} & \\ldots & \\mathbf{x}^{(m)} \\end{pmatrix}^{T}$ and the label vector $\\mathbf{y} = \\big( y^{(1)}, \\ldots, y^{(m)} \\big)^{T}$. \n",
    "\n",
    "</div>"
   ]
  },
  {
   "cell_type": "code",
   "execution_count": 12,
   "metadata": {
    "nbgrader": {
     "grade": false,
     "grade_id": "cell-711d85b7cf810763",
     "locked": true,
     "schema_version": 3,
     "solution": false,
     "task": false
    }
   },
   "outputs": [],
   "source": [
    "# Pandas provides functions for loading (storing) data from (to) files\n",
    "import pandas as pd  \n",
    "# the library \"cv2\" provides powerful methods for image processing and computer vision\n",
    "import cv2 \n",
    "# import functions for displaying and plotting data \n",
    "from matplotlib import pyplot as plt \n",
    "from IPython.display import display, HTML\n",
    "# library \"numpy\" provides matrix (represented by numpy arrays) operations \n",
    "import numpy as np   \n",
    "# library \"random\" provides functions for generating random numbers\n",
    "import random\n",
    "\n",
    "def GetFeaturesLabels(m, n):\n",
    "    \n",
    "    # m - number of data points (pixels)\n",
    "    # n - number of features\n",
    "    \n",
    "    # filename of image file containing corrupted pixels\n",
    "    corrupted = 'SomePhotoCorrupted.bmp'\n",
    "    \n",
    "    # read corrupted image as numpy array\n",
    "    Photo = cv2.imread(corrupted, 0)\n",
    "    # set image size (100 by 100 pixels)\n",
    "    Photo = cv2.resize(Photo, (100, 100))\n",
    "    \n",
    "    # get image height and width \n",
    "    imgheight = Photo.shape[0]\n",
    "    imgwidth = Photo.shape[1]\n",
    "\n",
    "    # determine \"uncorroputed pixels\" by finding indices of those pixels with grayscale value larger than 0\n",
    "    good_idx = np.where(Photo > 0)\n",
    "\n",
    "    # store the vertical coordinate (row index) of uncorroputed pixels in numpy array `rows`\n",
    "    rows = good_idx[0] \n",
    "    # store the horizontal coordinate (column index) of uncorroputed pixels in numpy array `cols` \n",
    "    cols = good_idx[1]\n",
    "    \n",
    "    # set pads for defining pixel neighborhood and augmenting the image\n",
    "    wp = 1\n",
    "    hp = 1\n",
    "\n",
    "    # augment image with stripes such that we can also define neighborhoods of border pixels \n",
    "    # the values of these pixels are zero\n",
    "    tmp = np.vstack((np.zeros((wp, imgwidth)), Photo, np.zeros((wp, imgwidth))))\n",
    "    augmented = np.hstack((np.zeros((2*wp + imgheight, hp)), tmp, np.zeros((2*wp + imgheight, hp))))\n",
    "\n",
    "    # initialize feature vectors `x1`, `x2`and label vector `y` as numpy arrays \n",
    "    x1 = np.zeros((m,1))\n",
    "    #x2 = np.zeros((m,1))\n",
    "    y = np.zeros((m,1))\n",
    "    \n",
    "    # calculate the mean and median gray scale value of a pixel neighborhood \n",
    "    # here we define 3x3 pixel matrix surrounding a pixel as its neighborhood \n",
    "    for iter_datapoint in range(m):\n",
    "        row = rows[iter_datapoint] + wp # add wp to get the index of same data point in augmented Photo\n",
    "        col = cols[iter_datapoint] + hp # add hp to get the index of same data point in augmented Photo\n",
    "\n",
    "        # get the true label (gray scale value) of a datapoint (pixel)\n",
    "        y[iter_datapoint] = augmented[row, col]\n",
    "\n",
    "        # get values of pixel with its neighborhood (3x3 matrix) from image\n",
    "        neighbors = np.copy(augmented[(row-wp):(row+wp+1), (col-hp):(col+hp+1)])\n",
    "        # set value of a data point to 0 in order to exlude this value from calculation\n",
    "        # for the 3x3 array the indices for this data point(center of the neighborhood) is [1,1]\n",
    "        neighbors[1,1] = 0\n",
    "        \n",
    "        # calculate the feature of a data point (pixel) - the mean and median gray level of the neighborhoud\n",
    "        # zero values are exluded from calculation\n",
    "        x1[iter_datapoint] = np.mean(neighbors[neighbors != 0])   \n",
    "        #x2[iter_datapoint] = np.median(neighbors[neighbors != 0]) \n",
    "        \n",
    "    np.random.seed(30) # this is done so that every time that below np.random.randn is called, it produces the same output. \n",
    "                       # this is needed for testing purposes\n",
    "    # lets add some \"extra features\" here \n",
    "    X = np.hstack((x1, np.random.randn(n,m).T)) \n",
    "    \n",
    "    X = X[:,:n]\n",
    "    return X, y"
   ]
  },
  {
   "cell_type": "markdown",
   "metadata": {
    "nbgrader": {
     "grade": false,
     "grade_id": "cell-ddfcf8b06137c570",
     "locked": true,
     "schema_version": 3,
     "solution": false,
     "task": false
    }
   },
   "source": [
    "## Linear Predictors \n",
    "\n",
    "To predict the grayscale value $y$ of a pixel based on the first $r$ features (or characteristics) $\\mathbf{x}=(x_{1},\\ldots,x_{r})^{T} \\in \\mathbb{R}^{r}$, we try to find (or learn) a predictor function $h(\\mathbf{x})$ such that $y \\approx h(\\mathbf{x})$. We restrict ourselves to linear predictor functions without an intercept term. Thus, we use the hypothesis space \n",
    "\n",
    "$$ \\mathcal{H}^{(r)} = \\{ h(\\mathbf{x}) = \\mathbf{w}^{T} \\mathbf{x} \\mbox{ with some weight } \\mathbf{w}\\in \\mathbb{R}^{r} \\}.$$ \n",
    "\n",
    "Carefully note that for each value $r\\in \\{1,\\ldots,n\\}$, we obtain a different hypothesis space $\\mathcal{H}^{(r)}$ (or \"model\"). These hypothesis spaces are nested such that\n",
    "\n",
    "$$\\mathcal{H}^{(1)} \\subseteq \\mathcal{H}^{(2)} \\subseteq \\mathcal{H}^{(3)} \\ldots .$$\n",
    "\n",
    "This means that the hypothesis space $\\mathcal{H}^{(i)}$ contains all functions in the hypothesis spaces $\\mathcal{H}^{(j)}$, for $j=1,\\ldots,i-1$.\n",
    "\n",
    "For a fixed model parameter $r$, the weight vector $\\mathbf{w} \\in \\mathbb{R}^{r}$ is tuned by minimizing the average squared error loss incurred on the labeled data points in the training set $\\mathbb{X}^{(t)}$: \n",
    "\n",
    "\\begin{align}\\min_{h \\in \\mathcal{H}^{(r)}}  & \\sum_{\\big(\\mathbf{x}^{(i)},y^{(i)}\\big) \\in \\mathbb{X}^{(t)}}  (y^{(i)} - h(\\mathbf{x}^{(i)}) )^{2} \\nonumber \\\\ \n",
    "= \\min_{\\mathbf{w} \\in \\mathbb{R}^{r}} & \\sum_{\\big(\\mathbf{x}^{(i)},y^{(i)}\\big) \\in \\mathbb{X}^{(t)}}  \\big(y^{(i)} -  \\mathbf{w}^{T}\\mathbf{x}^{(i)}  \\big)^{2}.\n",
    "\\end{align}\n",
    "\n",
    "Solving this training problem provides us with optimal choices for weight vector $\\mathbf{w}$. \n",
    "However, we have another design parameter at our disposal: the number $r$ of features! While each pixel is characterized by $n$ features in our dataset, we are free to use fewer e.g. only the first $r \\leq n$ of these features. \n",
    "\n",
    "What is the best choice for $r$? "
   ]
  },
  {
   "cell_type": "markdown",
   "metadata": {
    "nbgrader": {
     "grade": false,
     "grade_id": "cell-0399c961c185f2f3",
     "locked": true,
     "schema_version": 3,
     "solution": false,
     "task": false
    }
   },
   "source": [
    "## The Wrong Way \n",
    "\n",
    "Let us try out each hypothesis space $\\mathcal{H}^{(r)}$ on the training data $\\mathbb{X}^{(t)}$. For each $r=1,\\ldots,h,$ we find the optimal predictor $h_{\\rm opt}^{(r)} \\in \\mathcal{H}^{(r)}$ by minimizing the average loss\n",
    "\n",
    "\\begin{align} \n",
    "\\mathcal{E}(r) & = (1/m_{t}) \\sum_{\\big(\\mathbf{x}^{(i)},y^{(i)}\\big) \\in \\mathbb{X}^{(t)}} \\big( y^{(i)}- h^{(r)}(\\mathbf{x}^{(i)}) \\big)^{2}. \n",
    "\\end{align} \n",
    "\n",
    "The training error for the hypothesis space $\\mathcal{H}^{(r)}$ is then calculated as the mean-squared error incurred by the optimal predictor $h_{\\rm opt}^{(r)}$:\n",
    "\n",
    "\\begin{align} \n",
    "E_{\\rm train}(r) & = (1/m_{t}) \\sum_{\\big(\\mathbf{x}^{(i)},y^{(i)}\\big) \\in \\mathbb{X}^{(t)}} \\big( y^{(i)}- h_{\\rm opt}^{(r)}(\\mathbf{x}^{(i)}) \\big)^{2} \\nonumber \\\\ \n",
    "& = (1/m_{t}) \\sum_{\\big(\\mathbf{x}^{(i)},y^{(i)}\\big) \\in \\mathbb{X}^{(t)}} \\big( y^{(i)}- \\mathbf{w}_{\\rm opt}^T \\mathbf{x}^{(i)}) \\big)^{2}. \\nonumber \n",
    "\\end{align} \n",
    "\n",
    "We can see that when the loss function is the mean-squared error - such as in ordinary least squares regression - the loss of the optimal predictor is equivalent to the training error. However, this is not always the case as we will see later in this notebook when considering regularization. \n",
    "\n",
    "It is tempting to choose the number $r$ of features according to the smallest training error $E_{\\rm train}(r)$. "
   ]
  },
  {
   "cell_type": "markdown",
   "metadata": {
    "nbgrader": {
     "grade": false,
     "grade_id": "cell-0aaf4cb2c4109eb2",
     "locked": true,
     "schema_version": 3,
     "solution": false
    }
   },
   "source": [
    "<a id='trainModel'></a>\n",
    "<div class=\" alert alert-info\">\n",
    "<p><b>Demo.</b> Varying Number of Features </p>\n",
    "    \n",
    "The following code snippet computes the training error $E_{\\rm train}(r)$ for each choice of $r$. For each particular value $r=1,\\ldots,n$, the best linear predictor $h(\\mathbf{x}) = \\mathbf{w}^{T} \\mathbf{x}$ is found using the  function `.fit()` of the `LinearRegression` class in scikit-learn.\n",
    "\n",
    "[Documentation of the LinearRegression class in scikit-learn](https://scikit-learn.org/stable/modules/generated/sklearn.linear_model.LinearRegression.html) \n",
    "\n",
    "</div>    "
   ]
  },
  {
   "cell_type": "code",
   "execution_count": 13,
   "metadata": {
    "nbgrader": {
     "grade": false,
     "grade_id": "cell-acd5c9243afcd36f",
     "locked": true,
     "schema_version": 3,
     "solution": false,
     "task": false
    }
   },
   "outputs": [
    {
     "data": {
      "image/png": "[encoded data removed]",
      "text/plain": [
       "<Figure size 720x432 with 1 Axes>"
      ]
     },
     "metadata": {
      "needs_background": "light"
     },
     "output_type": "display_data"
    }
   ],
   "source": [
    "from sklearn.linear_model import LinearRegression\n",
    "from sklearn.metrics import mean_squared_error\n",
    "\n",
    "m = 20                        # we use the first m=20 data points (pixels) from the aerial photo \n",
    "n = 10                        # maximum number of features used \n",
    "\n",
    "X,y = GetFeaturesLabels(m,n)  # read in m data points using n features \n",
    "linreg_error = np.zeros(n)    # vector for storing the training error of LinearRegresion.fit() for each r\n",
    "\n",
    "for r_minus_1 in range(n):    # loop r times\n",
    "    reg = LinearRegression(fit_intercept=False)    # create an object for linear predictors\n",
    "    reg = reg.fit(X[:,:(r_minus_1 + 1)], y)    # find best linear predictor (minimize training error)\n",
    "    pred = reg.predict(X[:,:(r_minus_1 + 1)])    # compute predictions of best predictors \n",
    "    linreg_error[r_minus_1] = mean_squared_error(y, pred)    # compute training error \n",
    "\n",
    "plot_x = np.linspace(1, n, n, endpoint=True)    # plot_x contains grid points for x-axis (1,...,n)\n",
    "\n",
    "# Plot training error E(r) as a function of feature number r\n",
    "plt.rc('legend', fontsize=14)    #  Set font size for legends\n",
    "plt.rc('axes', labelsize=14)    #  Set font size for axis labels\n",
    "plt.figure(figsize=(10,6))    # Set figure size\n",
    "plt.plot(plot_x, linreg_error, label='$E(r)$', color='red')\n",
    "plt.xlabel('# of features $r$')\n",
    "plt.ylabel('training error $E(r)$')\n",
    "plt.title('training error vs number of features', fontsize=16)\n",
    "plt.legend()\n",
    "plt.show()"
   ]
  },
  {
   "cell_type": "markdown",
   "metadata": {
    "nbgrader": {
     "grade": false,
     "grade_id": "cell-4fba2c040fb160f3",
     "locked": true,
     "schema_version": 3,
     "solution": false
    }
   },
   "source": [
    "### Let's Interpret the Results!\n",
    "\n",
    "Based on the above plot, we could argue that we should choose the linear model with $r=10$ features since this yields the lowest training error $E(r)$. **This reasoning is incorrect** since our ultimate goal is to find a predictor for new pixels for which we do not know the grayscale values (e.g. corrupted pixels). Our goal is not to accurately reproduce the grayscale values of pixels for which we already know these values! \n",
    "\n",
    "Using the training error $E_{\\rm train}(r)$ to assess the quality of the predictor $h_{\\rm opt}^{(r)}$ is misleading since $h_{\\rm opt}^{(r)}$ is based on the weight vector $\\mathbf{w}$ that is perfectly tuned to the training data $\\mathbb{X}^{(t)}$. Also, the more features (larger $r$) we use, the better we will be able to fit the training data $\\mathbb{X}^{(t)}$ (obtain smaller training error). However, this does not necessarily lead to better performance on new data. A complex model with too many features (large $r$) might only fit the training data very well, and generalize poorly to new data.\n",
    "\n",
    "Consider the case of $r=m_{\\rm train}$, i.e., the number of features is the same as the number of labeled data points in the training set. Under very mild conditions it can be shown that in this case there always exists a linear predictor $h(\\mathbf{x})=\\mathbf{w}^{T} \\mathbf{x}$ such that $y^{(i)} = h(\\mathbf{x}^{(i)})$, i.e., the training error is exactly zero (see Chapter 7.1 of the coursebook)! \n",
    "A better way to evaluate the quality of a predictor is presented next."
   ]
  },
  {
   "cell_type": "markdown",
   "metadata": {
    "nbgrader": {
     "grade": false,
     "grade_id": "cell-8e508ee65304e99f",
     "locked": true,
     "schema_version": 3,
     "solution": false,
     "task": false
    }
   },
   "source": [
    "##  The Right Way\n",
    "\n",
    "The training error $E_{\\rm train}(r)$ is a bad measure for the quality of a hypothesis space $\\mathcal{H}^{(r)}$ since it will always favor larger spaces (larger number $r$ of features). A more useful measure for the quality of a hypothesis space $\\mathcal{H}^{(r)}$ is the validation error \n",
    "\n",
    "\\begin{equation}\n",
    "E_{\\rm val}(r) = (1/m_{v}) \\sum_{\\big(\\mathbf{x}^{(i)},y^{(i)}\\big) \\in \\mathbb{X}^{(v)}} \\big(y^{(i)} - h^{(r)}_{\\rm opt}(\\mathbf{x}^{(i)})\\big)^{2}, \n",
    "\\end{equation} \n",
    "\n",
    "where the predictor $h_{\\rm opt}^{(r)}(\\mathbf{x}) = \\mathbf{w}_{\\rm opt}^T\\mathbf{x}$ is obtained by minimizing the training error $E_{\\rm train}(r)$ with respect to $\\mathbf{w}$. \n",
    "\n",
    "Since a lower validation error corresponds to better predictions, the best hypothesis space for our problem is the one with the lowest validation error. Consequently, we should choose the model with the lowest validation error when performing model selection in machine learning."
   ]
  },
  {
   "cell_type": "markdown",
   "metadata": {
    "nbgrader": {
     "grade": false,
     "grade_id": "cell-8a7b319a106cbd05",
     "locked": true,
     "schema_version": 3,
     "solution": false,
     "task": false
    }
   },
   "source": [
    "<a id='splitTestandValidationfunction'></a>\n",
    "<div class=\" alert alert-info\">\n",
    "<b>Demo.</b> Generate Training and Validation Set.\n",
    "   \n",
    "The code snippet below uses the `scikit-learn` library function `train_test_split()` to split the data points obtained from the function `GetFeaturesLabels` into a training and validation set. The parameter `test_size=0.2` specifies the fraction of the data points used for the validation set. \n",
    "</div>"
   ]
  },
  {
   "cell_type": "code",
   "execution_count": 14,
   "metadata": {
    "nbgrader": {
     "grade": false,
     "grade_id": "cell-9cc67382efb4ce19",
     "locked": true,
     "schema_version": 3,
     "solution": false,
     "task": false
    }
   },
   "outputs": [],
   "source": [
    "from sklearn.model_selection import train_test_split    # Import train_test_split function\n",
    "\n",
    "m = 20    # we use the first m=20 data points (pixels) from the aerial photo\n",
    "n = 10    # maximum number of features used \n",
    "\n",
    "X, y = GetFeaturesLabels(m,n)    # read in m data points using n features \n",
    "\n",
    "X_train, X_val, y_train, y_val = train_test_split(X, y, test_size=0.2, random_state=2)  # 80% training and 20% test"
   ]
  },
  {
   "cell_type": "markdown",
   "metadata": {
    "nbgrader": {
     "grade": false,
     "grade_id": "cell-428dadef568d5aef",
     "locked": true,
     "schema_version": 3,
     "solution": false,
     "task": false
    }
   },
   "source": [
    "<a id='trainValErrorsfunction'></a>\n",
    "<div class=\" alert alert-info\">\n",
    "<b>Demo.</b> Compute Training and Validation Error. \n",
    "The code snippet below\n",
    "    \n",
    "**(1)** implements the function `get_train_val_errors(X_train, X_val, y_train, y_val, n_features)` that returns the training error and validation error for each choice of $r=1,\\ldots,n$. Please use `fit_intercept=False`. The training errors should be stored in a numpy array `err_train` of shape (n,1) and the validation errors should be stored in the numpy array `err_val` of shape (n,1). The first entries of `err_train` and `err_val` should be $E_{\\rm train}(1)$ and $E_{\\rm val}(1)$. \n",
    "\n",
    "**(2)** implements the function `get_best_model(err_val)`, that takes as input the validation errors `err_val` for each number of features $r=1,\\ldots,n$ and returns the optimum number $\\hat{r}$ of features (such that the validation error is smallest). \n",
    "\n",
    "Hint: you can determine the index of the smallest entry in a numpy array using `np.argmin()` ([see documentation](https://docs.scipy.org/doc/numpy-1.15.1/reference/generated/numpy.argmin.html)).\n",
    "\n",
    "**IMPORTANT!**: Remember that indexing for numpy arrays starts with index 0. However, we start with model size $r=1$. Thus, you need to add 1 to the index that you get by using `np.argmin()`.\n",
    "</div>"
   ]
  },
  {
   "cell_type": "code",
   "execution_count": 15,
   "metadata": {
    "nbgrader": {
     "grade": false,
     "grade_id": "cell-7791084dee96529b",
     "locked": true,
     "schema_version": 3,
     "solution": false,
     "task": false
    }
   },
   "outputs": [],
   "source": [
    "def get_train_val_errors(X_train, X_val, y_train, y_val, n):  \n",
    "    err_train = np.zeros((n,1))    # Array for storing training errors\n",
    "    err_val = np.zeros((n,1))    # Array for storing validation errors\n",
    "    \n",
    "    for r_minus_1 in range(n):    # Loop over the number of features r (minus one)\n",
    "   \n",
    "        lin_reg = LinearRegression(fit_intercept=False)\n",
    "        lin_reg = lin_reg.fit(X_train[:,:(r_minus_1+1)], y_train)\n",
    "        w_opt = lin_reg.coef_\n",
    "        y_pred_train = lin_reg.predict(X_train[:,:(r_minus_1+1)])\n",
    "        err_train[r_minus_1] = mean_squared_error(y_train, y_pred_train)\n",
    "        y_pred_val = lin_reg.predict(X_val[:,:(r_minus_1+1)])\n",
    "        err_val[r_minus_1] = mean_squared_error(y_val, y_pred_val)\n",
    "   \n",
    "    return err_train, err_val\n",
    "\n",
    "def get_best_model(err_val):\n",
    " \n",
    "    best_model = np.argmin(err_val) + 1\n",
    " \n",
    "    return best_model\n",
    "\n",
    "err_train,err_val=get_train_val_errors(X_train, X_val, y_train, y_val, n)"
   ]
  },
  {
   "cell_type": "markdown",
   "metadata": {
    "nbgrader": {
     "grade": false,
     "grade_id": "cell-802d3729eb036c9f",
     "locked": true,
     "schema_version": 3,
     "solution": false,
     "task": false
    }
   },
   "source": [
    "The code snippet below creates a plot of the training and validation error for varying number $r$ of features. "
   ]
  },
  {
   "cell_type": "code",
   "execution_count": 16,
   "metadata": {
    "nbgrader": {
     "grade": false,
     "grade_id": "cell-64473b41dbc92dfa",
     "locked": true,
     "schema_version": 3,
     "solution": false,
     "task": false
    },
    "scrolled": false
   },
   "outputs": [
    {
     "data": {
      "image/png": "[encoded data removed]",
      "text/plain": [
       "<Figure size 720x432 with 1 Axes>"
      ]
     },
     "metadata": {
      "needs_background": "light"
     },
     "output_type": "display_data"
    }
   ],
   "source": [
    "# Plot the training and validation errors for the different number of features r\n",
    "plt.figure(figsize=(10,6))\n",
    "plt.plot(range(1, n + 1), err_train, color='black', label=r'$E_{\\rm train}(r)$', marker='o')  # Plot training error\n",
    "plt.plot(range(1, n + 1), err_val, color='red', label=r'$E_{\\rm val}(r)$', marker='x')  # Plot validation error\n",
    "\n",
    "plt.title('Training and validation error for different number of features', fontsize=16)    # Set title\n",
    "plt.ylabel('Empirical error')    # Set label for y-axis\n",
    "plt.xlabel('r features')    # Set label for x-axis\n",
    "plt.xticks(range(1, n + 1))  # Set the tick labels on the x-axis to be 1,...,n\n",
    "plt.legend()\n",
    "plt.show()"
   ]
  },
  {
   "cell_type": "markdown",
   "metadata": {
    "nbgrader": {
     "grade": false,
     "grade_id": "cell-61ecf20008a16c4b",
     "locked": true,
     "schema_version": 3,
     "solution": false,
     "task": false
    }
   },
   "source": [
    "From the figure, we see that the training error is monotonically decreasing with an increasing number $r$ of features used in the linear predictor $h(\\mathbf{x}) = w_{1}x_{1}+\\ldots+w_{r}x_{r}$. However, the validation error is first decreasing but then rapidly increases for larger values of $r$. It is clear that the training error can be very misleading as a measure for prediction error on new data for large values of $r$, which correspond to more complex models.\n",
    "\n",
    "Some questions arise when observing the above figure. How come the validation error is lower than the training error when $r < 5$, and why does the validation error drop for $r=10$ features? \n",
    "\n",
    "The reason for these apparent anomalies turns out to be pure randomness. Using only a single split of the data into training and validation set bears the risk of being extremely \"unlucky\", in the sense that the single split might result in a highly non-typical validation set such that the validation error is not a reliable measure for the average error on new data. This problem is particularly prevalent when using small datasets, such as in this exercise ($m=20$).\n",
    "\n",
    "In our case, the validation set happens to fit the optimal predictors for $r < 5$ too well by chance. As a result, the resulting validation errors are unrealistically low and do not give a reliable estimate of the error of the model on new data. Equally well, we could have obtained a validation set that gives excessively high validation errors and therefore pessimistic estimates of the generalization capabilities of the model. \n",
    "\n",
    "Next we will consider $K$-fold cross-validation, which is a straightforward extension to the \"single-split approach\" that increases the robustness of the validation error. "
   ]
  },
  {
   "cell_type": "markdown",
   "metadata": {
    "collapsed": true,
    "nbgrader": {
     "grade": false,
     "grade_id": "cell-a417d9495eb3f40e",
     "locked": true,
     "schema_version": 3,
     "solution": false,
     "task": false
    }
   },
   "source": [
    "## K-fold Cross-Validation\n",
    "\n",
    "In general, there is no unique optimal way of splitting a data set into a training and validation set. The precise choice of how to divide data points into the training and validation set and also their relative size (80/20, 50/50 ...) has to be considered case-by-case for the application at hand. \n",
    "\n",
    "To get more guidance on how to split the data, one typically needs to have additional knowledge about the statistical properties of the data generating process. An accurate probabilistic model for the data points allows determining optimal split ratios between the training and validation set. That said, probabilistic (generative) models for the observed data points is beyond the scope of this course. \n",
    "\n",
    "$K$-fold cross-validation randomly splits the data into $K$ equal-sized subsets (\"folds\"). It then executes $K$ rounds, each round corresponding to one of the $K$ folds. In the $k$th round, the $k$th fold is used as the validation set and the remaining $K-1$ folds are used as the training set. The validation errors obtained during each fold are then averaged to obtain the final validation error. \n",
    "\n",
    "As an example, a diagram of  5-fold cross-validation is depicted below. For each round, the fold which is used as the validation set is indicated by \"test\". \n",
    "\n",
    "![Components](cross_validation_diagram.png)"
   ]
  },
  {
   "cell_type": "markdown",
   "metadata": {},
   "source": [
    "<a id='kfold'></a>\n",
    "<div class=\" alert alert-info\">\n",
    "<p><b>Demo.</b> Splitting data into K-folds in sklearn.</p>\n",
    "    \n",
    "The code snippet below shows how to use a `KFold` object in scikit-learn to iterate through `K` train/validation splits of the dataset `X`.\n",
    "    \n",
    "On initialization the `KFold` object is given the number of data splits `K` as an argument to the parameter `n_splits`. The Python [generator function](https://docs.python.org/3.8/glossary.html#term-generator) `KFold.split(X)` can then be used to iterate through the pairs of training and validation indices. \n",
    "\n",
    "For an array `idx` of indices, the data points in X corresponding to these indices can be obtained by `X[idx,:]`. We can use this to obtain the training and validation sets given the indices of the datapoints in the respective sets.\n",
    "\n",
    "For more information, see the scikit-learn [documentation of KFold](https://scikit-learn.org/stable/modules/generated/sklearn.model_selection.KFold.html).\n",
    "</div>  "
   ]
  },
  {
   "cell_type": "code",
   "execution_count": 17,
   "metadata": {},
   "outputs": [
    {
     "name": "stdout",
     "output_type": "stream",
     "text": [
      "Iteration 1:\n",
      "Indices for validation set: [0 1 2 3]\n",
      "Indices for training set: [ 4  5  6  7  8  9 10 11 12 13 14 15 16 17 18 19]\n",
      "X_val shape: (4, 10), X_train shape: (16, 10) \n",
      "\n",
      "Iteration 2:\n",
      "Indices for validation set: [4 5 6 7]\n",
      "Indices for training set: [ 0  1  2  3  8  9 10 11 12 13 14 15 16 17 18 19]\n",
      "X_val shape: (4, 10), X_train shape: (16, 10) \n",
      "\n",
      "Iteration 3:\n",
      "Indices for validation set: [ 8  9 10 11]\n",
      "Indices for training set: [ 0  1  2  3  4  5  6  7 12 13 14 15 16 17 18 19]\n",
      "X_val shape: (4, 10), X_train shape: (16, 10) \n",
      "\n",
      "Iteration 4:\n",
      "Indices for validation set: [12 13 14 15]\n",
      "Indices for training set: [ 0  1  2  3  4  5  6  7  8  9 10 11 16 17 18 19]\n",
      "X_val shape: (4, 10), X_train shape: (16, 10) \n",
      "\n",
      "Iteration 5:\n",
      "Indices for validation set: [16 17 18 19]\n",
      "Indices for training set: [ 0  1  2  3  4  5  6  7  8  9 10 11 12 13 14 15]\n",
      "X_val shape: (4, 10), X_train shape: (16, 10) \n",
      "\n"
     ]
    }
   ],
   "source": [
    "# Import KFold class from scikitlearn library\n",
    "from sklearn.model_selection import KFold\n",
    "\n",
    "K=5    # Specify the number of folds of split data into\n",
    "kf = KFold(n_splits=K, shuffle=False)    # Create a KFold object with 'K' splits\n",
    "\n",
    "# For all splits, print the validation and training indices\n",
    "iteration = 0\n",
    "for train_indices, test_indices in kf.split(X):\n",
    "    iteration += 1\n",
    "    X_train = X[train_indices,:]    # Get the training set    \n",
    "    X_val = X[test_indices,:]    # Get the validation set\n",
    "    print('Iteration {}:'.format(iteration))\n",
    "    print('Indices for validation set:', test_indices)\n",
    "    print('Indices for training set:', train_indices)\n",
    "    print('X_val shape: {}, X_train shape: {} \\n'.format(X_val.shape, X_train.shape))"
   ]
  },
  {
   "cell_type": "markdown",
   "metadata": {
    "nbgrader": {
     "grade": false,
     "grade_id": "cell-13d40bbc019a9337",
     "locked": true,
     "schema_version": 3,
     "solution": false,
     "task": false
    }
   },
   "source": [
    "<a id='kfold'></a>\n",
    "<div class=\" alert alert-info\">\n",
    "<p><b>Demo.</b> 5-Fold Cross Validation.</p>\n",
    "     \n",
    "The code snippet below computes the training and validation errors for each choice of $r=1,\\ldots,n$ using 5-fold cross-validation which is implemented in the `KFold` class in `scikit-learn`. For each $r$, the code \n",
    "    \n",
    "1. iterates over the `K` pairs of train and test indices and for each pair, calculates the training and validation errors of a linear regression model (with `fit_intercept=False`) and stores them in  `train_errors_per_cv_iteration` and `test_errors_per_cv_iteration` respectively.\n",
    "    \n",
    "    \n",
    "2. calculates the average training- and validation errors and stores these at index `r_minus_1` in the arrays `err_train` and `err_val` (both of shape $(n, )$) respectively.\n",
    "\n",
    "For more information, see the scikit-learn [documentation of KFold](https://scikit-learn.org/stable/modules/generated/sklearn.model_selection.KFold.html).\n",
    "\n",
    "Afterwards, the training- and validation errors are plotted for comparison with the errors from the previous student task.\n",
    "\n",
    "</div>  "
   ]
  },
  {
   "cell_type": "code",
   "execution_count": 18,
   "metadata": {},
   "outputs": [
    {
     "name": "stdout",
     "output_type": "stream",
     "text": [
      "Training errors for each K:\n",
      "[637.41820883 561.98317496 559.46672776 552.07169716 400.50877888\n",
      " 366.73791523 360.39151973 344.47555803 315.84008851 257.30331856] \n",
      "\n",
      "Validation error for each K:\n",
      "[ 992.40012404 1049.02462044 1058.86797659 1101.66928223 1275.91108993\n",
      " 1529.51040713 1592.00067    1896.198768   2882.79709039 3522.10436428] \n",
      "\n"
     ]
    }
   ],
   "source": [
    "m = 20    # we use the first m=20 data points (pixels) from the aerial photo \n",
    "n = 10\n",
    "\n",
    "X, y = GetFeaturesLabels(m,n)  # read in m data points with n features \n",
    "\n",
    "err_train = np.zeros(n)  # Array to store training errors\n",
    "err_val = np.zeros(n)  # Array to store validation errors\n",
    "\n",
    "K = 5\n",
    "kf = KFold(n_splits=K, shuffle=False)    # Create a KFold object with 'K' splits\n",
    "\n",
    "for r_minus_1 in range(n):\n",
    "    train_errors_per_cv_iteration = []  # List for storing the training errors for the splits\n",
    "    val_errors_per_cv_iteration = []  # List for storing the validation errors for the splits\n",
    "    \n",
    "    ### STUDENT TASK ###\n",
    "    ### BEGIN SOLUTION\n",
    "    for train_indices, test_indices in kf.split(X):\n",
    "        reg = LinearRegression(fit_intercept=False)    # Create new linear regression model\n",
    "        reg = reg.fit(X[train_indices,:(r_minus_1+1)], y[train_indices])    # Fit the model on the current training set\n",
    "        y_pred_train = reg.predict(X[train_indices,:(r_minus_1+1)])    # Calculate the predicted labels of the current training set\n",
    "        train_errors_per_cv_iteration.append(mean_squared_error(y[train_indices], y_pred_train))    # Add the training error to list of errors\n",
    "        y_pred_val = reg.predict(X[test_indices,:(r_minus_1+1)])    # Calculate the predicted labels of the current test set\n",
    "        val_errors_per_cv_iteration.append(mean_squared_error(y[test_indices], y_pred_val))    # Add the test error to list of errors\n",
    "\n",
    "    err_train[r_minus_1] = np.mean(train_errors_per_cv_iteration)    # compute the mean of round-wise training errors\n",
    "    err_val[r_minus_1] = np.mean(val_errors_per_cv_iteration)    # compute the mean of round-wise validation errors\n",
    "    ### END SOLUTION\n",
    "    \n",
    "print('Training errors for each K:')\n",
    "print(err_train, '\\n')\n",
    "print('Validation error for each K:')\n",
    "print(err_val, '\\n')"
   ]
  },
  {
   "cell_type": "code",
   "execution_count": 19,
   "metadata": {
    "scrolled": false
   },
   "outputs": [
    {
     "data": {
      "image/png": "[encoded data removed]",
      "text/plain": [
       "<Figure size 720x432 with 1 Axes>"
      ]
     },
     "metadata": {
      "needs_background": "light"
     },
     "output_type": "display_data"
    }
   ],
   "source": [
    "# Plot the training and validation errors for the different number of features r\n",
    "plt.figure(figsize=(10,6))\n",
    "plt.plot(range(1, n+1), err_train, color='black', label=r'$E_{\\rm train}(r)$', marker='o')  # Plot training error\n",
    "plt.plot(range(1, n+1), err_val, color='red', label=r'$E_{\\rm val}(r)$', marker='x')  # Plot validation error\n",
    "\n",
    "plt.title('5-fold training and validation errors for different number of features', fontsize=16)    # Set title\n",
    "plt.ylabel('Empirical error')    # Set label for y-axis\n",
    "plt.xlabel('r features')    # Set label for x-axis\n",
    "plt.xticks(range(1, n + 1))  # Set the tick labels on the x-axis to be 1,...,n\n",
    "plt.legend()\n",
    "plt.show()"
   ]
  },
  {
   "cell_type": "markdown",
   "metadata": {
    "nbgrader": {
     "grade": false,
     "grade_id": "cell-12f1478400587745",
     "locked": true,
     "schema_version": 3,
     "solution": false,
     "task": false
    }
   },
   "source": [
    "If we compare the figure above to the one in the previous student task, we can see that the validation error obtained by 5-fold cross-validation seems to provide a more realistic estimate of the performance of the model on new data. The validation error is now consistently larger than the training error, and the rising trend of the validation error seems slightly smoother.\n",
    "\n",
    "In practice, it is almost always preferable to use K-fold cross-validation instead of a single validation split for model validation and selection due to the increased robustness of the validation error."
   ]
  },
  {
   "cell_type": "markdown",
   "metadata": {
    "nbgrader": {
     "grade": false,
     "grade_id": "cell-a451b1c380ed82da",
     "locked": true,
     "schema_version": 3,
     "solution": false,
     "task": false
    }
   },
   "source": [
    "##  Regularization\n",
    "\n",
    "Consider a ML method based on a large hypothesis space such as linear predictors using many features or polynomials with a large degree. Large hypothesis spaces typically contain complex predictors that achieve very low training errors by overfitting the data. Thus, if we search for the optimal predictor in this hypothesis space (i.e train our model) by minimizing the training error, we will obtain a predictor that overfits the training data and  generalizes poorly to data that is not in the training set.\n",
    "\n",
    "One solution to prevent overfitting is to choose a model out of a selection of candidate models based on the validation error, like we did in the student task \"Compute Training and Validation Error\". By using the validation error as the selection criteria, we are able to select the model that performs best on new data. While this approach is useful, it can be very difficult to implement in settings where the number of feasible hypothesis spaces is very large.\n",
    "\n",
    "**Regularization** is a more sophisticated approach to prevent overfitting, and is based on the idea of **estimating the expected increase of the validation error (relative to the training error) incurred by more complex predictors**. When applying regularization, a large hypothesis space is used in conjunction with a loss function that penalizes the complexity of the predictor. If we recall that the optimal predictor is found by minimizing the loss function, it is clear that by choosing a loss function that penalizes complexity, the optimal predictor will be less complex. In practice, the penalization is done by adding a **regularization term** $\\mathcal{R}(h)$ to the training error: \n",
    "\n",
    "\\begin{equation}\n",
    "h^{(\\lambda)}_{\\rm opt}  = {\\rm argmin}_{h \\in \\mathcal{H}} \\underbrace{\\underbrace{(1/m_{t}) \\sum_{\\big(\\mathbf{x}^{(i)},y^{(i)}\\big) \\in \\mathbb{X}^{(t)}} \\big(y^{(i)} - h(\\mathbf{x}^{(i)}) \\big)^{2}}_{\\mbox{ training error}} + \\underbrace{\\alpha \\mathcal{R}(h)}_{\\mbox{anticipated increase of error (loss) on new data}}}_{\\mbox{ estimate (approximation) of validation error }}.  \n",
    "\\end{equation}\n",
    "\n",
    "The regularization term $\\mathcal{R}(h)$ quantifies the anticipated increase in the validation error (compared to the training error) due to the \"complexity\" (e.g. the number of features used in a linear predictor) of a particular predictor. In a nutshell, the regularization term penalizes the use of more complex predictors and therefore favors \"simpler\" predictor functions. The precise meaning of \"complexity\" or \"simpler\" is determined by the (design) choice for the regularization term $\\mathcal{R}(h)$. \n",
    "\n",
    "Two widely used choices for measuring the complexity of linear predictors $h(\\mathbf{x}) = \\mathbf{w}^{T}\\mathbf{x}$ is the squared Euclidean norm $\\mathcal{R}(h) = \\|\\mathbf{w}\\|^{2}_{2}=\\sum_{r=1}^{n} w_{r}^{2}$ or the $\\ell_{1}$ norm $\\mathcal{R}(h) = \\|\\mathbf{w}\\|_{1}=\\sum_{r=1}^{n} |w_{r}|$. \n",
    "\n",
    "The regularization parameter $\\alpha$ **offers a trade-off between the prediction error (training error) incurred on the training data and the complexity of a predictor**. The larger we choose $\\alpha$, the more emphasis is put on obtaining \"simple\" predictor functions. Using very small values for $\\alpha$ prefers predictor functions which achieve a small training error (at the expense of being a more complicated function).\n",
    "\n",
    "In order to actually implement regularization, we need to \n",
    "- choose (define) the function $\\mathcal{R}(h)$ that quantifies some notion of complexity of a predictor function $h \\in \\mathcal{H}^{(n)}$. \n",
    "- choose the value of the regularization parameter $\\alpha$. \n",
    "\n",
    "A principled approach to these choices is to assume a probabilistic model for how the data points are generated. It is then possible to relate optimal choices for the function $\\mathcal{R}(h)$ and the value $\\alpha$ to the parameters of the probability distribution of the data points. However, probabilistic modelling in machine learning is beyond the scope of this course. \n",
    "\n",
    "Instead of probabilistic modelling, we can use again the concept of validation sets to find good choices for the regularization function and parameter. In particular, \n",
    "- we first specify a set of different choices for the function $\\mathcal{R}(h)$ and regularization parameter value $\\alpha$, \n",
    "- for each choice for $\\alpha$ and $\\mathcal{R}(h)$, we learn a predictor that minimizes the regularized training error \n",
    "\n",
    "\\begin{equation}\n",
    "h^{(\\alpha)}_{\\rm opt}  = {\\rm argmin}_{h \\in \\mathcal{H}} (1/m_{t}) \\sum_{\\big(\\mathbf{x}^{(i)},y^{(i)}\\big) \\in \\mathbb{X}^{(t)}} \\big(y^{(i)} - h(\\mathbf{x}^{(i)}) \\big)^{2} + \\alpha \\mathcal{R}(h).    \n",
    "\\end{equation}\n",
    "- evaluate the resulting predictor $h^{(\\alpha)}_{\\rm opt}$ by computing the validation error\n",
    "\\begin{equation}\n",
    "E_{\\rm val}^{(\\alpha)} = (1/m_{\\rm v}) \\sum_{\\big(\\mathbf{x}^{(i)},y^{(i)}\\big) \\in \\mathbb{X}^{(v)}} \\big(y^{(i)} - h^{(\\alpha)}_{\\rm opt}(\\mathbf{x}^{(i)})\\big)^{2}.\n",
    "\\end{equation} \n",
    "\n",
    "We then use the regularization measure $\\mathcal{R}(h)$ and the value for $\\alpha$ with smallest validation error $E_{\\rm val}^{(\\alpha)}$. "
   ]
  },
  {
   "cell_type": "markdown",
   "metadata": {
    "nbgrader": {
     "grade": false,
     "grade_id": "cell-a697f48e6cf7e933",
     "locked": true,
     "schema_version": 3,
     "solution": false,
     "task": false
    }
   },
   "source": [
    "<a id='ridgeReg'></a>\n",
    "<div class=\" alert alert-info\">\n",
    "<p><b>Demo.</b> Ridge Regression. </p>\n",
    "\n",
    "Ridge regression learns a linear predictor functions $h^{(\\mathbf{w})}(\\mathbf{x}) =\\mathbf{w}^{T} \\mathbf{x}$ by minimizing the sum of training error and the scaled regularization term $\\mathcal{R}(h)=\\|\\mathbf{w}\\|_{2}^{2}$. A ridge regression model can be fitted to a dataset with scikit-learn by using the function `Ridge.fit()`. After fitting the model, the optimal weight vector $\\mathbf{w}_{\\rm opt}$ is stored in the attribute `Ridge.coef_` of the `Ridge` instance. \n",
    "\n",
    "[See documentation of Ridge](https://scikit-learn.org/stable/modules/generated/sklearn.linear_model.Ridge.html)\n",
    "\n",
    "</div>  "
   ]
  },
  {
   "cell_type": "code",
   "execution_count": 20,
   "metadata": {
    "nbgrader": {
     "grade": false,
     "grade_id": "cell-ef05953e6a07a985",
     "locked": true,
     "schema_version": 3,
     "solution": false,
     "task": false
    }
   },
   "outputs": [
    {
     "name": "stdout",
     "output_type": "stream",
     "text": [
      "Optimal weights: \n",
      " [[ 1.25721443  3.27807154  3.60467268 -0.47793668  8.38208454 -1.37961108\n",
      "   0.55923303 -1.89998403 -0.9641168  -6.81787775]]\n",
      "Training error: \n",
      " 430.41694125415677\n"
     ]
    }
   ],
   "source": [
    "from sklearn.linear_model import Ridge\n",
    "\n",
    "m = 20\n",
    "n = 10\n",
    "X, y = GetFeaturesLabels(m, n)\n",
    "X_train, X_val, y_train, y_val = train_test_split(X, y, test_size=0.2, random_state=2)  # 80% training and 20% test\n",
    "\n",
    "alpha = 10    # Define value of the regularization parameter 'alpha'\n",
    "\n",
    "ridge = Ridge(alpha=alpha, fit_intercept=False)    # Create Ridge regression model\n",
    "ridge.fit(X_train, y_train)    # Fit the Ridge regression model on the training set\n",
    "y_pred = ridge.predict(X_train)    # Predict the labels of the training set\n",
    "w_opt = ridge.coef_    # Get the optimal weights (regression coefficients) of the fitted model\n",
    "err_train = mean_squared_error(y_pred, y_train)    # Calculate the training error\n",
    "\n",
    "# Print optimal weights and training error\n",
    "print('Optimal weights: \\n', w_opt)\n",
    "print('Training error: \\n', err_train)"
   ]
  },
  {
   "cell_type": "markdown",
   "metadata": {
    "nbgrader": {
     "grade": false,
     "grade_id": "cell-30fe04a19dab009c",
     "locked": true,
     "schema_version": 3,
     "solution": false,
     "task": false
    }
   },
   "source": [
    "<a id='QuestionR4_1'></a>\n",
    "<div class=\" alert alert-warning\">\n",
    "<p><b>Student Task.</b> Question R4.1. </p>\n",
    "\n",
    "<p>What is the goal of model selection in machine learning?</p>\n",
    "\n",
    "<ol>\n",
    "  <li> To choose (learn) the optimal predictor function $h_{\\rm opt}$ out of a given hypothesis space (model) $\\mathcal{H}$.</li>\n",
    "  <li> To select the most suitable car model using machine learning methods.</li>\n",
    "  <li> To select the optimal weights used for regularization.</li>\n",
    "  <li> To select the best hypothesis space out of a set of candidates $\\lbrace \\mathcal{H}^{(1)}, \\mathcal{H}^{(2)}, \\ldots,\\mathcal{H}^{(n)} \\rbrace$.</li>\n",
    "</ol> \n",
    "\n",
    "</div>"
   ]
  },
  {
   "cell_type": "code",
   "execution_count": null,
   "metadata": {
    "nbgrader": {
     "grade": false,
     "grade_id": "cell-01dd62184f9f57d9",
     "locked": false,
     "schema_version": 3,
     "solution": true,
     "task": false
    }
   },
   "outputs": [],
   "source": [
    "# answer_R4_Q1  = ...\n",
    "### BEGIN SOLUTION\n",
    "answer_R4_Q1 = 4\n",
    "### END SOLUTION"
   ]
  },
  {
   "cell_type": "code",
   "execution_count": null,
   "metadata": {
    "nbgrader": {
     "grade": true,
     "grade_id": "cell-b0c15dcdd6f57af7",
     "locked": true,
     "points": 1,
     "schema_version": 3,
     "solution": false
    }
   },
   "outputs": [],
   "source": [
    "# this cell is for tests\n",
    "assert answer_R4_Q1 in [1,2,3,4], '\"answer_R4_Q1\" Value should be an integer between 1 and 4.'\n",
    "print('Sanity check tests passed!')\n",
    "\n",
    "### BEGIN HIDDEN TESTS\n",
    "assert answer_R4_Q1 in [1,2,3,4], '\"answer_R4_Q1\" Value should be an integer between 1 and 4.'\n",
    "assert answer_R4_Q1 == 4, ' \"answer_R4_Q1\" Correct answer is 4.'\n",
    "### END HIDDEN TESTS"
   ]
  },
  {
   "cell_type": "markdown",
   "metadata": {
    "nbgrader": {
     "grade": false,
     "grade_id": "cell-2d849c30b77c3a9d",
     "locked": true,
     "schema_version": 3,
     "solution": false,
     "task": false
    }
   },
   "source": [
    "<a id='QuestionR4_2'></a>\n",
    "<div class=\" alert alert-warning\">\n",
    "<p><b>Student Task.</b> Question R4.2. </p>\n",
    "\n",
    "<p>What is a good measure for the prediction error (loss) incurred by a predictor function $h(\\mathbf{x})$ on new data points?</p>\n",
    "<ol>\n",
    "  <li> The empirical error (average loss) of $h(\\mathbf{x})$ on the <b>training set</b> which is also used to tune $h(\\mathbf{x})$. </li>\n",
    "  <li> The empirical error (average loss) of $h(\\mathbf{x})$ on some <b>validation set</b> which is different from the training set. \n",
    "</ol> \n",
    "\n",
    "</div>"
   ]
  },
  {
   "cell_type": "code",
   "execution_count": null,
   "metadata": {
    "nbgrader": {
     "grade": false,
     "grade_id": "cell-786b53bfbed054d1",
     "locked": false,
     "schema_version": 3,
     "solution": true,
     "task": false
    }
   },
   "outputs": [],
   "source": [
    "# answer_R4_Q2  = ...\n",
    "### BEGIN SOLUTION\n",
    "answer_R4_Q2 = 2\n",
    "### END SOLUTION"
   ]
  },
  {
   "cell_type": "code",
   "execution_count": null,
   "metadata": {
    "nbgrader": {
     "grade": true,
     "grade_id": "cell-fcd79fc73255e27d",
     "locked": true,
     "points": 1,
     "schema_version": 3,
     "solution": false
    }
   },
   "outputs": [],
   "source": [
    "# this cell is for tests\n",
    "assert answer_R4_Q2 in [1,2], '\"answer_R4_Q2\" Value should be an integer between 1 and 2.'\n",
    "print('Sanity check tests passed!')\n",
    "\n",
    "### BEGIN HIDDEN TESTS\n",
    "assert answer_R4_Q2 in [1,2], '\"answer_R4_Q2\" Value should be an integer between 1 and 2.'\n",
    "assert answer_R4_Q2 == 2, ' \"answer_R4_Q2\" Correct answer is 2.'\n",
    "### END HIDDEN TESTS"
   ]
  },
  {
   "cell_type": "markdown",
   "metadata": {
    "nbgrader": {
     "grade": false,
     "grade_id": "cell-e89debc2a73facf2",
     "locked": true,
     "schema_version": 3,
     "solution": false,
     "task": false
    }
   },
   "source": [
    "<a id='QuestionR4_3'></a>\n",
    "<div class=\" alert alert-warning\">\n",
    "<p><b>Student Task.</b> Question R4.3. </p>\n",
    "\n",
    "Regularized linear regression amounts to finding the predictor $h(\\mathbf{x})$ which minimizes the regularized training error \n",
    "\\begin{equation} \n",
    "(1/m_{t}) \\sum_{\\big(\\mathbf{x}^{(i)},y^{(i)}\\big) \\in \\mathbb{X}^{(t)}} \\big(y^{(i)} - h(\\mathbf{x}^{(i)}) \\big)^{2} + \\alpha \\mathcal{R}(h).\n",
    "\\end{equation}\n",
    "Which statement is true?\n",
    "\n",
    "<ol>\n",
    "  <li> Using a large value for the regularization parameter $\\alpha$ prefers predictors with large complexity $\\mathcal{R}(h)$ but small training error.</li>\n",
    "  <li>  Using a small value for the regularization parameter $\\alpha$ prefers predictors with large complexity $\\mathcal{R}(h)$ but small training error.</li>\n",
    "  <li> For regularization parameter $\\alpha=0$, the optimal predictor is always $h(\\mathbf{x}) =0$. </li>\n",
    "  <li> For regularization parameter $\\alpha=0$, the optimal predictor is always $h(\\mathbf{x}) =42$.</li>\n",
    "</ol> \n",
    "\n",
    "</div>"
   ]
  },
  {
   "cell_type": "code",
   "execution_count": null,
   "metadata": {
    "nbgrader": {
     "grade": false,
     "grade_id": "cell-8a7f812f9a71b8f3",
     "locked": false,
     "schema_version": 3,
     "solution": true,
     "task": false
    }
   },
   "outputs": [],
   "source": [
    "# answer_R4_Q3  = ...\n",
    "### BEGIN SOLUTION\n",
    "answer_R4_Q3 = 2\n",
    "### END SOLUTION"
   ]
  },
  {
   "cell_type": "code",
   "execution_count": null,
   "metadata": {
    "nbgrader": {
     "grade": true,
     "grade_id": "cell-530e6746dd4af06c",
     "locked": true,
     "points": 1,
     "schema_version": 3,
     "solution": false
    }
   },
   "outputs": [],
   "source": [
    "# this cell is for tests\n",
    "assert answer_R4_Q3 in [1,2,3,4], '\"answer_R4_Q3\" Value should be an integer between 1 and 4.'\n",
    "print('Sanity check tests passed!')\n",
    "\n",
    "### BEGIN HIDDEN TESTS\n",
    "assert answer_R4_Q3 in [1,2,3,4], '\"answer_R4_Q3\" Value should be an integer between 1 and 4.'\n",
    "assert answer_R4_Q3 == 2, ' \"answer_R4_Q3\" Correct answer is 2.'\n",
    "### END HIDDEN TESTS"
   ]
  },
  {
   "cell_type": "markdown",
   "metadata": {
    "nbgrader": {
     "grade": false,
     "grade_id": "cell-2bd3fa9a8a8b2da9",
     "locked": true,
     "schema_version": 3,
     "solution": false,
     "task": false
    }
   },
   "source": [
    "<a id='QuestionR4_4'></a>\n",
    "<div class=\" alert alert-warning\">\n",
    "<p><b>Student Task.</b> Question R4.4. </p>\n",
    "\n",
    "Use the previously implemented code in \"Tuning Lasso Parameter\" to find the optimal predictor (lowest validation error) for $\\alpha=$ `alpha_val`. Using the same dataset.\n",
    "When initializing Lasso, please use `fit_intercept=False`. \n",
    "<p>Which alpha should be chosen to achieve an optimal predictor?</p> \n",
    "<p>Possible alpha values are given in the code cell below.</p>\n",
    "</div>"
   ]
  },
  {
   "cell_type": "code",
   "execution_count": null,
   "metadata": {
    "nbgrader": {
     "grade": false,
     "grade_id": "cell-11392734fc803cfe",
     "locked": false,
     "schema_version": 3,
     "solution": true,
     "task": false
    }
   },
   "outputs": [],
   "source": [
    "alpha_values = np.array([0.01, 0.05, 0.2, 1, 3, 10, 1e2, 1e3])\n",
    "\n",
    "# answer_R4_Q4  = ...\n",
    "### BEGIN SOLUTION\n",
    "answer_R4_Q4 = 1e3\n",
    "### END SOLUTION"
   ]
  },
  {
   "cell_type": "code",
   "execution_count": null,
   "metadata": {
    "nbgrader": {
     "grade": true,
     "grade_id": "cell-d7f48b684296863d",
     "locked": true,
     "points": 1,
     "schema_version": 3,
     "solution": false,
     "task": false
    }
   },
   "outputs": [],
   "source": [
    "# this cell is for tests\n",
    "assert answer_R4_Q4 in [0.01, 0.05, 0.2, 1, 3, 10, 1e2, 1e3], 'answer_R4_Q3\" Value should be a value out of given alpha values..'\n",
    "print('Sanity check tests passed!')\n",
    "\n",
    "### BEGIN HIDDEN TESTS\n",
    "assert answer_R4_Q4 == 1e3, ' answer_R4_Q4\" Correct answer is 1e3.'\n",
    "### END HIDDEN TESTS"
   ]
  },
  {
   "cell_type": "code",
   "execution_count": null,
   "metadata": {},
   "outputs": [],
   "source": []
  }
 ],
 "metadata": {
  "celltoolbar": "Create Assignment",
  "kernelspec": {
   "display_name": "Python 3",
   "language": "python",
   "name": "python3"
  },
  "language_info": {
   "codemirror_mode": {
    "name": "ipython",
    "version": 3
   },
   "file_extension": ".py",
   "mimetype": "text/x-python",
   "name": "python",
   "nbconvert_exporter": "python",
   "pygments_lexer": "ipython3",
   "version": "3.7.4"
  },
  "varInspector": {
   "cols": {
    "lenName": 16,
    "lenType": 16,
    "lenVar": 40
   },
   "kernels_config": {
    "python": {
     "delete_cmd_postfix": "",
     "delete_cmd_prefix": "del ",
     "library": "var_list.py",
     "varRefreshCmd": "print(var_dic_list())"
    },
    "r": {
     "delete_cmd_postfix": ") ",
     "delete_cmd_prefix": "rm(",
     "library": "var_list.r",
     "varRefreshCmd": "cat(var_dic_list()) "
    }
   },
   "types_to_exclude": [
    "module",
    "function",
    "builtin_function_or_method",
    "instance",
    "_Feature"
   ],
   "window_display": false
  }
 },
 "nbformat": 4,
 "nbformat_minor": 2
}
